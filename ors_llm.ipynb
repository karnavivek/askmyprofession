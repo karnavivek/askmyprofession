{
 "cells": [
  {
   "cell_type": "markdown",
   "id": "0580d316",
   "metadata": {},
   "source": [
    "## Fine-Tuning Operations Research Scientist for AskMyProfession"
   ]
  },
  {
   "cell_type": "markdown",
   "id": "9327d014",
   "metadata": {},
   "source": []
  }
 ],
 "metadata": {
  "language_info": {
   "name": "python"
  }
 },
 "nbformat": 4,
 "nbformat_minor": 5
}
