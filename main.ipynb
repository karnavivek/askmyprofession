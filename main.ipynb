{
 "cells": [
  {
   "cell_type": "markdown",
   "id": "4f013060",
   "metadata": {},
   "source": [
    "Building the base LLM Model which will be then used for finetuning LoRA + Quantization:"
   ]
  },
  {
   "cell_type": "markdown",
   "id": "7a3aedda",
   "metadata": {},
   "source": []
  }
 ],
 "metadata": {
  "language_info": {
   "name": "python"
  }
 },
 "nbformat": 4,
 "nbformat_minor": 5
}
